{
  "nbformat": 4,
  "nbformat_minor": 0,
  "metadata": {
    "colab": {
      "provenance": [],
      "authorship_tag": "ABX9TyOrx3xrlKeVda2S8TP3exUi",
      "include_colab_link": true
    },
    "kernelspec": {
      "name": "python3",
      "display_name": "Python 3"
    },
    "language_info": {
      "name": "python"
    }
  },
  "cells": [
    {
      "cell_type": "markdown",
      "metadata": {
        "id": "view-in-github",
        "colab_type": "text"
      },
      "source": [
        "<a href=\"https://colab.research.google.com/github/Kashish-Syed/Bulk-Email-Sender/blob/main/bulk_email_sender.ipynb\" target=\"_parent\"><img src=\"https://colab.research.google.com/assets/colab-badge.svg\" alt=\"Open In Colab\"/></a>"
      ]
    },
    {
      "cell_type": "code",
      "execution_count": 1,
      "metadata": {
        "id": "0yRFLmiOpfdz"
      },
      "outputs": [],
      "source": [
        "import smtplib\n",
        "from email.mime.multipart import MIMEMultipart\n",
        "from email.mime.text import MIMEText\n",
        "from email.mime.base import MIMEBase\n",
        "from email import encoders\n",
        "import pandas as pd"
      ]
    },
    {
      "cell_type": "code",
      "source": [
        "# Load the recipients list from a CSV file\n",
        "recipients = pd.read_csv(\"metaRecruiters.csv\")  # Ensure your CSV has columns like \"Email\", \"FirstName\", \"AttachmentPath\""
      ],
      "metadata": {
        "id": "ZKB3ZbrTpg5j"
      },
      "execution_count": 2,
      "outputs": []
    },
    {
      "cell_type": "code",
      "source": [
        "# SMTP server setup (this example uses Gmail's SMTP server)\n",
        "server = smtplib.SMTP(\"smtp.gmail.com\", 587)\n",
        "server.starttls()\n",
        "server.login(\"kashishsyed1125@gmail.com\", \"fefj jjpo mcen ybpr\")"
      ],
      "metadata": {
        "colab": {
          "base_uri": "https://localhost:8080/"
        },
        "id": "s7MAwzYxphHo",
        "outputId": "49346090-8fd8-4776-8dce-f999212b3b01"
      },
      "execution_count": 3,
      "outputs": [
        {
          "output_type": "execute_result",
          "data": {
            "text/plain": [
              "(235, b'2.7.0 Accepted')"
            ]
          },
          "metadata": {},
          "execution_count": 3
        }
      ]
    },
    {
      "cell_type": "code",
      "source": [
        "# Load email message template from a file\n",
        "with open(\"EmailTemplate.txt\", \"r\") as file:\n",
        "    email_template = file.read()"
      ],
      "metadata": {
        "id": "LCw3z8aRphVp"
      },
      "execution_count": 4,
      "outputs": []
    },
    {
      "cell_type": "code",
      "source": [
        "for index, row in recipients.iterrows():\n",
        "    # Create the email\n",
        "    msg = MIMEMultipart()\n",
        "    msg[\"From\"] = \"Kashish Syed\"\n",
        "    msg[\"To\"] = row[\"email\"]\n",
        "    msg[\"Subject\"] = \"Interest in Meta Summer Internship – Following Up\"\n",
        "\n",
        "    # Customize message with recipient's name\n",
        "    message = email_template.format(first_name=row['first_name'])\n",
        "\n",
        "    msg.attach(MIMEText(message, \"plain\"))\n",
        "    pdf_path = \"KashishSyedResumeMeta.pdf\"\n",
        "    # Attach the single PDF file for all recipients\n",
        "\n",
        "    with open(pdf_path, \"rb\") as attachment:\n",
        "        mime_base = MIMEBase(\"application\", \"pdf\")\n",
        "        mime_base.set_payload(attachment.read())\n",
        "        encoders.encode_base64(mime_base)\n",
        "        mime_base.add_header(\"Content-Disposition\", f\"attachment; filename={pdf_path.split('/')[-1]}\")\n",
        "        msg.attach(mime_base)\n",
        "\n",
        "    # Send the email\n",
        "    server.sendmail(msg[\"From\"], msg[\"To\"], msg.as_string())"
      ],
      "metadata": {
        "id": "IYJ-RwZipzVH"
      },
      "execution_count": 5,
      "outputs": []
    },
    {
      "cell_type": "code",
      "source": [
        "# Quit the server\n",
        "server.quit()"
      ],
      "metadata": {
        "colab": {
          "base_uri": "https://localhost:8080/"
        },
        "id": "fx6TgbF8pzTJ",
        "outputId": "ae291d4f-3926-4691-8d17-b5e174ad2729"
      },
      "execution_count": 6,
      "outputs": [
        {
          "output_type": "execute_result",
          "data": {
            "text/plain": [
              "(221,\n",
              " b'2.0.0 closing connection 6a1803df08f44-6d40dd1f713sm37747876d6.83 - gsmtp')"
            ]
          },
          "metadata": {},
          "execution_count": 6
        }
      ]
    }
  ]
}